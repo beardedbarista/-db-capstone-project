{
 "cells": [
  {
   "cell_type": "code",
   "execution_count": 40,
   "metadata": {},
   "outputs": [],
   "source": [
    "import mysql.connector as connector\n",
    "connection = connector.connect(user = \"root\", password = \"admin1\")"
   ]
  },
  {
   "cell_type": "code",
   "execution_count": 41,
   "metadata": {},
   "outputs": [],
   "source": [
    "connection = connector.connect( user = \"root\", password = \"admin1\", db = \"little_lemon_db\") "
   ]
  },
  {
   "cell_type": "code",
   "execution_count": 42,
   "metadata": {},
   "outputs": [],
   "source": [
    "cursor=connection.cursor()"
   ]
  },
  {
   "cell_type": "code",
   "execution_count": 43,
   "metadata": {},
   "outputs": [],
   "source": [
    "show_tables_query = \"SHOW tables\" \n",
    "results=cursor.execute(show_tables_query)"
   ]
  },
  {
   "cell_type": "code",
   "execution_count": 44,
   "metadata": {},
   "outputs": [],
   "source": [
    "results"
   ]
  },
  {
   "cell_type": "code",
   "execution_count": 45,
   "metadata": {},
   "outputs": [
    {
     "name": "stdout",
     "output_type": "stream",
     "text": [
      "bookings\n",
      "employees\n",
      "menuitems\n",
      "menus\n",
      "orders\n",
      "orders_view\n",
      "orderview\n"
     ]
    }
   ],
   "source": [
    "tables = cursor.fetchall()\n",
    "for table in tables:\n",
    "    print(table[0])"
   ]
  },
  {
   "cell_type": "code",
   "execution_count": 47,
   "metadata": {},
   "outputs": [],
   "source": [
    "joinquerry = '''\n",
    "SELECT \n",
    "bookings.BookingID, \n",
    "bookings.GuestFirstName, \n",
    "bookings.GuestLastName, \n",
    "orders.BillAmount\n",
    "\n",
    "FROM little_lemon_db.bookings\n",
    "INNER JOIN little_lemon_db.orders \n",
    "ON bookings.BookingID = orders.BookingID\n",
    "\n",
    "WHERE BillAmount > 60\n",
    "ORDER BY BillAmount desc\n",
    "'''\n",
    "\n",
    "cursor.execute(joinquerry)"
   ]
  },
  {
   "cell_type": "code",
   "execution_count": 48,
   "metadata": {},
   "outputs": [
    {
     "name": "stdout",
     "output_type": "stream",
     "text": [
      "(1, 'Anna', 'Iversen', 86)\n"
     ]
    }
   ],
   "source": [
    "results = cursor.fetchall()\n",
    "for item in results:\n",
    "    print(item)"
   ]
  }
 ],
 "metadata": {
  "kernelspec": {
   "display_name": "Python 3",
   "language": "python",
   "name": "python3"
  },
  "language_info": {
   "codemirror_mode": {
    "name": "ipython",
    "version": 3
   },
   "file_extension": ".py",
   "mimetype": "text/x-python",
   "name": "python",
   "nbconvert_exporter": "python",
   "pygments_lexer": "ipython3",
   "version": "3.11.2"
  },
  "orig_nbformat": 4,
  "vscode": {
   "interpreter": {
    "hash": "ac2318ac61e55d89a2b9c20a5c3cf5add97a832d7bbdf6a327d9d8557eeec230"
   }
  }
 },
 "nbformat": 4,
 "nbformat_minor": 2
}
